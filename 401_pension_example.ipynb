{
 "cells": [
  {
   "cell_type": "markdown",
   "id": "17b494f5",
   "metadata": {},
   "source": [
    "# Install packages"
   ]
  },
  {
   "cell_type": "code",
   "execution_count": 8,
   "id": "bd871ce6",
   "metadata": {},
   "outputs": [],
   "source": [
    "from doubleml import DoubleMLData\n",
    "from doubleml.datasets import fetch_401K\n",
    "import numpy as np"
   ]
  },
  {
   "cell_type": "markdown",
   "id": "1c0bb6b8",
   "metadata": {},
   "source": [
    "# Construct DoubleMLData object"
   ]
  },
  {
   "cell_type": "code",
   "execution_count": 3,
   "id": "cde9fb3c",
   "metadata": {},
   "outputs": [],
   "source": [
    "data = fetch_401K(return_type='DataFrame')\n",
    "\n",
    "# Construct DoubleMLData object\n",
    "dml_data = DoubleMLData(data, y_col='net_tfa', d_cols='e401',\n",
    "                        x_cols=['age', 'inc', 'educ', 'fsize', 'marr',\n",
    "                                'twoearn', 'db', 'pira', 'hown'])"
   ]
  },
  {
   "cell_type": "markdown",
   "id": "ede51c47",
   "metadata": {},
   "source": [
    "# Machine Learning applied for estimation "
   ]
  },
  {
   "cell_type": "code",
   "execution_count": 6,
   "id": "04dcd098",
   "metadata": {},
   "outputs": [],
   "source": [
    "from sklearn.ensemble import RandomForestClassifier, RandomForestRegressor\n",
    "\n",
    "ml_l_rf = RandomForestRegressor(n_estimators = 500, max_depth = 7,\n",
    "                                max_features = 3, min_samples_leaf = 3)\n",
    "\n",
    "\n",
    "ml_m_rf = RandomForestClassifier(n_estimators = 500, max_depth = 5,\n",
    "                                max_features = 4, min_samples_leaf = 7)\n",
    "\n",
    "\n",
    "from xgboost import XGBClassifier, XGBRegressor\n",
    "\n",
    "ml_l_xgb = XGBRegressor(objective = \"reg:squarederror\", eta = 0.1,\n",
    "                        n_estimators =35)\n",
    "\n",
    "\n",
    "ml_m_xgb = XGBClassifier(use_label_encoder = False ,\n",
    "                         objective = \"binary:logistic\",\n",
    "                         eval_metric = \"logloss\",\n",
    "                         eta = 0.1, n_estimators = 34)\n",
    " "
   ]
  },
  {
   "cell_type": "markdown",
   "id": "0e2609df",
   "metadata": {},
   "source": [
    "# Partially Linear Regression (PLR)"
   ]
  },
  {
   "cell_type": "code",
   "execution_count": 10,
   "id": "20f0675b",
   "metadata": {},
   "outputs": [],
   "source": [
    "from doubleml import DoubleMLPLR\n",
    "\n",
    "np.random.seed(123)\n",
    "\n",
    "#without any parameter handling\n",
    "dml_plr_tree = DoubleMLPLR(dml_data,\n",
    "                             ml_l = ml_l_rf,\n",
    "                             ml_m = ml_m_rf)\n",
    " \n",
    "\n",
    "np.random.seed(123)\n",
    "\n",
    "#with parameter setting\n",
    "dml_plr_tree = DoubleMLPLR(dml_data,\n",
    "                             ml_l = ml_l_rf,\n",
    "                             ml_m = ml_m_rf,\n",
    "                             n_folds = 3,\n",
    "                             n_rep = 1,\n",
    "                             score = 'partialling out', # option : partialling out or IV-type\n",
    "                             dml_procedure = 'dml2')    # option : dml1 or dml2"
   ]
  },
  {
   "cell_type": "markdown",
   "id": "7cbb0f5d",
   "metadata": {},
   "source": [
    "# Estimation"
   ]
  },
  {
   "cell_type": "code",
   "execution_count": 12,
   "id": "71a77511",
   "metadata": {},
   "outputs": [
    {
     "data": {
      "text/plain": [
       "<doubleml.double_ml_plr.DoubleMLPLR at 0x1759edfd0>"
      ]
     },
     "execution_count": 12,
     "metadata": {},
     "output_type": "execute_result"
    }
   ],
   "source": [
    "dml_plr_tree.fit() #model fitting & estimation"
   ]
  },
  {
   "cell_type": "code",
   "execution_count": 13,
   "id": "7af5c961",
   "metadata": {},
   "outputs": [
    {
     "data": {
      "text/plain": [
       "array([8909.63407762])"
      ]
     },
     "execution_count": 13,
     "metadata": {},
     "output_type": "execute_result"
    }
   ],
   "source": [
    "dml_plr_tree.coef # Coefficient estimate : theta-zero-check"
   ]
  },
  {
   "cell_type": "code",
   "execution_count": 14,
   "id": "d9c85176",
   "metadata": {},
   "outputs": [
    {
     "data": {
      "text/plain": [
       "array([1321.82228913])"
      ]
     },
     "execution_count": 14,
     "metadata": {},
     "output_type": "execute_result"
    }
   ],
   "source": [
    "dml_plr_tree.se # Standard error"
   ]
  },
  {
   "cell_type": "code",
   "execution_count": 16,
   "id": "232a6e97",
   "metadata": {},
   "outputs": [
    {
     "data": {
      "text/html": [
       "<div>\n",
       "<style scoped>\n",
       "    .dataframe tbody tr th:only-of-type {\n",
       "        vertical-align: middle;\n",
       "    }\n",
       "\n",
       "    .dataframe tbody tr th {\n",
       "        vertical-align: top;\n",
       "    }\n",
       "\n",
       "    .dataframe thead th {\n",
       "        text-align: right;\n",
       "    }\n",
       "</style>\n",
       "<table border=\"1\" class=\"dataframe\">\n",
       "  <thead>\n",
       "    <tr style=\"text-align: right;\">\n",
       "      <th></th>\n",
       "      <th>2.5 %</th>\n",
       "      <th>97.5 %</th>\n",
       "    </tr>\n",
       "  </thead>\n",
       "  <tbody>\n",
       "    <tr>\n",
       "      <th>e401</th>\n",
       "      <td>6318.909997</td>\n",
       "      <td>11500.358158</td>\n",
       "    </tr>\n",
       "  </tbody>\n",
       "</table>\n",
       "</div>"
      ],
      "text/plain": [
       "            2.5 %        97.5 %\n",
       "e401  6318.909997  11500.358158"
      ]
     },
     "execution_count": 16,
     "metadata": {},
     "output_type": "execute_result"
    }
   ],
   "source": [
    "dml_plr_tree.confint() # Confidence Interval "
   ]
  },
  {
   "cell_type": "code",
   "execution_count": 15,
   "id": "34fd951d",
   "metadata": {},
   "outputs": [
    {
     "data": {
      "text/html": [
       "<div>\n",
       "<style scoped>\n",
       "    .dataframe tbody tr th:only-of-type {\n",
       "        vertical-align: middle;\n",
       "    }\n",
       "\n",
       "    .dataframe tbody tr th {\n",
       "        vertical-align: top;\n",
       "    }\n",
       "\n",
       "    .dataframe thead th {\n",
       "        text-align: right;\n",
       "    }\n",
       "</style>\n",
       "<table border=\"1\" class=\"dataframe\">\n",
       "  <thead>\n",
       "    <tr style=\"text-align: right;\">\n",
       "      <th></th>\n",
       "      <th>coef</th>\n",
       "      <th>std err</th>\n",
       "      <th>t</th>\n",
       "      <th>P&gt;|t|</th>\n",
       "      <th>2.5 %</th>\n",
       "      <th>97.5 %</th>\n",
       "    </tr>\n",
       "  </thead>\n",
       "  <tbody>\n",
       "    <tr>\n",
       "      <th>e401</th>\n",
       "      <td>8909.634078</td>\n",
       "      <td>1321.822289</td>\n",
       "      <td>6.740417</td>\n",
       "      <td>1.579322e-11</td>\n",
       "      <td>6318.909997</td>\n",
       "      <td>11500.358158</td>\n",
       "    </tr>\n",
       "  </tbody>\n",
       "</table>\n",
       "</div>"
      ],
      "text/plain": [
       "             coef      std err         t         P>|t|        2.5 %  \\\n",
       "e401  8909.634078  1321.822289  6.740417  1.579322e-11  6318.909997   \n",
       "\n",
       "            97.5 %  \n",
       "e401  11500.358158  "
      ]
     },
     "execution_count": 15,
     "metadata": {},
     "output_type": "execute_result"
    }
   ],
   "source": [
    "dml_plr_tree.summary"
   ]
  },
  {
   "cell_type": "markdown",
   "id": "c7af3331",
   "metadata": {},
   "source": [
    "# Inference"
   ]
  },
  {
   "cell_type": "code",
   "execution_count": 18,
   "id": "720a31f1",
   "metadata": {},
   "outputs": [
    {
     "data": {
      "text/plain": [
       "<doubleml.double_ml_plr.DoubleMLPLR at 0x1759edfd0>"
      ]
     },
     "execution_count": 18,
     "metadata": {},
     "output_type": "execute_result"
    }
   ],
   "source": [
    "# Multiplier bootstrap (relevant in case with multiple treatment variables)\n",
    "#  DoubleML supports various approaches to perform valid simultaneous inference which are partly based on a multiplier bootstrap.\n",
    "dml_plr_tree.bootstrap()"
   ]
  },
  {
   "cell_type": "markdown",
   "id": "4f13b712",
   "metadata": {},
   "source": [
    "### we find a positive and significant effect: Being eligible for such a pension plan increases the amount of net financial assets by approximately $9000. "
   ]
  }
 ],
 "metadata": {
  "kernelspec": {
   "display_name": "Python 3 (ipykernel)",
   "language": "python",
   "name": "python3"
  },
  "language_info": {
   "codemirror_mode": {
    "name": "ipython",
    "version": 3
   },
   "file_extension": ".py",
   "mimetype": "text/x-python",
   "name": "python",
   "nbconvert_exporter": "python",
   "pygments_lexer": "ipython3",
   "version": "3.8.13"
  }
 },
 "nbformat": 4,
 "nbformat_minor": 5
}
